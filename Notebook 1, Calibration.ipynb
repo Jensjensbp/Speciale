{
 "cells": [
  {
   "cell_type": "markdown",
   "id": "58183e6f-b0b3-4f5f-82bd-24da0fcc2bf2",
   "metadata": {},
   "source": [
    "# Imports"
   ]
  },
  {
   "cell_type": "code",
   "execution_count": 22,
   "id": "f42bbe97-c5ce-438c-8c63-821862701e7b",
   "metadata": {},
   "outputs": [
    {
     "name": "stdout",
     "output_type": "stream",
     "text": [
      "The autoreload extension is already loaded. To reload it, use:\n",
      "  %reload_ext autoreload\n"
     ]
    }
   ],
   "source": [
    "%load_ext autoreload\n",
    "%autoreload 2\n",
    "\n",
    "import pickle\n",
    "import numpy as np\n",
    "from datetime import datetime\n",
    "import pandas as pd\n",
    "import urllib.request\n",
    "from fredapi import Fred\n",
    "\n",
    "import matplotlib.pyplot as plt   \n",
    "from mpl_toolkits.mplot3d import Axes3D\n",
    "from matplotlib import cm\n",
    "from matplotlib.ticker import LinearLocator, FormatStrFormatter\n",
    "\n",
    "from consav.markov import tauchen, find_ergodic\n",
    "\n",
    "from HANKSAMModel import HANKSAMModelClass"
   ]
  },
  {
   "cell_type": "markdown",
   "id": "8623daa7-5c2c-4d5f-88f8-658f08db9fc1",
   "metadata": {},
   "source": [
    "# Setup"
   ]
  },
  {
   "cell_type": "code",
   "execution_count": 13,
   "id": "92793948-e63e-4269-a22b-9bcc7a92bdbf",
   "metadata": {},
   "outputs": [],
   "source": [
    "model = HANKSAMModelClass(name='baseline')"
   ]
  },
  {
   "cell_type": "code",
   "execution_count": 14,
   "id": "9e3583d3-a500-4589-85cb-792b58e35de1",
   "metadata": {},
   "outputs": [],
   "source": [
    "par = model.par\n",
    "ss = model.ss\n",
    "sim = model.sim\n",
    "path = model.path"
   ]
  },
  {
   "cell_type": "markdown",
   "id": "e98285b4-8295-4f6b-a8dc-5faaa9ef3bdd",
   "metadata": {},
   "source": [
    "### Load Data"
   ]
  },
  {
   "cell_type": "code",
   "execution_count": 15,
   "id": "19ece967-485c-4815-adb6-3b9ec7d3f999",
   "metadata": {},
   "outputs": [],
   "source": [
    "first = np.datetime64('1948-01')\n",
    "last = np.datetime64(datetime.today().strftime(\"%Y-%m\"))\n",
    "data = pd.DataFrame(index=np.arange(first,last+1))"
   ]
  },
  {
   "cell_type": "code",
   "execution_count": 16,
   "id": "34617a10-959f-45fe-8056-5dd9a3d1e16a",
   "metadata": {},
   "outputs": [],
   "source": [
    "url = 'https://github.com/JeppeDruedahl/CPS-labor-market-flows/raw/main/Q.p'\n",
    "filename = 'P.p'\n",
    "urllib.request.urlretrieve(url,filename)\n",
    "\n",
    "with open('P.p', 'rb') as f:\n",
    "    P = pickle.load(f)\n",
    "\n",
    "for k, v in P.items():\n",
    "    \n",
    "    data[f'l'] = v\n",
    "    \n",
    "    # calculate average transition event probability \n",
    "    data[k] = 100*(1.0-np.exp(-v))"
   ]
  },
  {
   "cell_type": "code",
   "execution_count": 17,
   "id": "3ab631d9-d8a0-4a17-9af6-b46f01492293",
   "metadata": {},
   "outputs": [],
   "source": [
    "mean_UE = np.mean(data['UE'])/100\n",
    "mean_EU = np.mean(data['EU'])/100\n",
    "\n",
    "par.lambda_u_ss = mean_UE\n",
    "par.delta_ss = mean_EU/(1-mean_UE)"
   ]
  },
  {
   "cell_type": "code",
   "execution_count": 18,
   "id": "92d1e747-4e8e-4df0-b545-8305ad0ecdd3",
   "metadata": {},
   "outputs": [],
   "source": [
    "with open('data.p','wb') as f:\n",
    "    pickle.dump(data,f)"
   ]
  },
  {
   "cell_type": "markdown",
   "id": "5b529afe-b156-48ab-94bc-69b56968e3ab",
   "metadata": {},
   "source": [
    "# Calibration"
   ]
  },
  {
   "cell_type": "markdown",
   "id": "2b8b1d81-e0ff-4341-89d3-76b6515d9ce9",
   "metadata": {},
   "source": [
    "## Find wage in steady state"
   ]
  },
  {
   "cell_type": "code",
   "execution_count": 10,
   "id": "88535149-cae1-42df-924b-1dd2f5a5933b",
   "metadata": {},
   "outputs": [],
   "source": [
    "par.UI_ratio_high = 0.83\n",
    "par.UI_ratio_low = 0.54\n",
    "par.UI_duration = 6.0"
   ]
  },
  {
   "cell_type": "code",
   "execution_count": 11,
   "id": "c346374d-c254-40de-adc2-c759e85025bf",
   "metadata": {},
   "outputs": [
    {
     "name": "stdout",
     "output_type": "stream",
     "text": [
      "guess on HtM_share of 0.01 causes diff drop - drop_target of 1.3741437030253492\n",
      "guess on HtM_share of 0.3 causes diff drop - drop_target of -1.5620398502448616\n",
      "guess on HtM_share of 0.1457209679325106 causes diff drop - drop_target of -0.000661484461000228\n",
      "guess on HtM_share of 0.14565566609037586 causes diff drop - drop_target of -2.7998784979388347e-07\n",
      "guess on HtM_share of 0.1456499378120454 causes diff drop - drop_target of 5.7720888918311175e-05\n",
      "calibration done in 13.0 mins 58 secs\n"
     ]
    }
   ],
   "source": [
    "model.calibrate_to_C_drop(do_print=True)"
   ]
  },
  {
   "cell_type": "markdown",
   "id": "0db944cc-a17e-43e3-a274-4918aaa783e3",
   "metadata": {},
   "source": [
    "## Find lambda_u_s"
   ]
  },
  {
   "cell_type": "code",
   "execution_count": 14,
   "id": "1e90e957-f9f6-47d6-8ae6-934c385b8e45",
   "metadata": {},
   "outputs": [],
   "source": [
    "par.UI_ratio_high = 0.83\n",
    "par.UI_ratio_low = 0.54\n",
    "par.UI_duration = 6.0"
   ]
  },
  {
   "cell_type": "code",
   "execution_count": 15,
   "id": "198ebfcc-c4ba-4660-a612-2d1d31a669f6",
   "metadata": {},
   "outputs": [
    {
     "name": "stdout",
     "output_type": "stream",
     "text": [
      "guess on lambda_eff of 0.2 causes diff drop - drop_target of -0.145668631071931\n",
      "guess on lambda_eff of 0.4 causes diff drop - drop_target of 0.01433136892806347\n",
      "guess on lambda_eff of 0.38208578883992006 causes diff drop - drop_target of 5.051514762044462e-15\n",
      "guess on lambda_eff of 0.3820788784109759 causes diff drop - drop_target of -5.5283431806274486e-06\n",
      "calibration done in 12.0 mins 16 secs\n"
     ]
    }
   ],
   "source": [
    "model.calibrate_to_lambda_u(do_print=True)"
   ]
  }
 ],
 "metadata": {
  "kernelspec": {
   "display_name": "Python 3 (ipykernel)",
   "language": "python",
   "name": "python3"
  },
  "language_info": {
   "codemirror_mode": {
    "name": "ipython",
    "version": 3
   },
   "file_extension": ".py",
   "mimetype": "text/x-python",
   "name": "python",
   "nbconvert_exporter": "python",
   "pygments_lexer": "ipython3",
   "version": "3.9.13"
  }
 },
 "nbformat": 4,
 "nbformat_minor": 5
}
